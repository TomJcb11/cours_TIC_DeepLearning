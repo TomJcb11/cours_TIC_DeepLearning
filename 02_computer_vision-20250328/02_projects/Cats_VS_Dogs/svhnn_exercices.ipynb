{
 "cells": [
  {
   "cell_type": "markdown",
   "id": "00e5b90a",
   "metadata": {},
   "source": [
    "# Street View House Numbers (SVHN) \n",
    "\n",
    "\n",
    "---\n",
    "\n",
    "Classification with CNN\n",
    "<div style=\"text-align: center\">\n",
    "<a style=\"text-align: center\">\n",
    "    <img src=\"./svhn.png\" width=305 align=\"center\">\n",
    "</a>\n",
    "</div>\n",
    "## 1. Understanding the Dataset\n",
    "The SVHN dataset contains images of house numbers from Google Street View. It's like MNIST but more challenging because:\n",
    "- Numbers appear in natural scenes\n",
    "- Multiple digits may be visible\n",
    "- Lighting and angles vary"
   ]
  },
  {
   "cell_type": "code",
   "execution_count": null,
   "id": "eb9df2a7",
   "metadata": {},
   "outputs": [
    {
     "ename": "ModuleNotFoundError",
     "evalue": "No module named 'tensorflow_datasets'",
     "output_type": "error",
     "traceback": [
      "\u001b[1;31m---------------------------------------------------------------------------\u001b[0m",
      "\u001b[1;31mModuleNotFoundError\u001b[0m                       Traceback (most recent call last)",
      "Cell \u001b[1;32mIn[1], line 1\u001b[0m\n\u001b[1;32m----> 1\u001b[0m \u001b[38;5;28;01mimport\u001b[39;00m \u001b[38;5;21;01mtensorflow_datasets\u001b[39;00m \u001b[38;5;28;01mas\u001b[39;00m \u001b[38;5;21;01mtfds\u001b[39;00m\n\u001b[0;32m      2\u001b[0m \u001b[38;5;28;01mimport\u001b[39;00m \u001b[38;5;21;01mmatplotlib\u001b[39;00m\u001b[38;5;21;01m.\u001b[39;00m\u001b[38;5;21;01mpyplot\u001b[39;00m \u001b[38;5;28;01mas\u001b[39;00m \u001b[38;5;21;01mplt\u001b[39;00m\n\u001b[0;32m      3\u001b[0m \u001b[38;5;28;01mimport\u001b[39;00m \u001b[38;5;21;01mnumpy\u001b[39;00m \u001b[38;5;28;01mas\u001b[39;00m \u001b[38;5;21;01mnp\u001b[39;00m\n",
      "\u001b[1;31mModuleNotFoundError\u001b[0m: No module named 'tensorflow_datasets'"
     ]
    }
   ],
   "source": [
    "# First install the datasets package if needed\n",
    "# !pip install tensorflow-datasets\n",
    "\n",
    "import tensorflow_datasets as tfds\n",
    "\n",
    "# Load SVHN dataset\n",
    "(train_ds, test_ds), info = tfds.load(\n",
    "    'svhn_cropped',\n",
    "    split=['train', 'test'],\n",
    "    as_supervised=True,\n",
    "    with_info=True\n",
    ")\n",
    "\n",
    "# Convert to numpy arrays (optional)\n",
    "# x_train, y_train = [], []\n",
    "# for image, label in tfds.as_numpy(train_ds):\n",
    "#     x_train.append(image)\n",
    "#     y_train.append(label)\n",
    "\n",
    "# x_train = np.array(x_train)\n",
    "# y_train = np.array(y_train)"
   ]
  },
  {
   "cell_type": "code",
   "execution_count": null,
   "id": "0ad98618",
   "metadata": {},
   "outputs": [],
   "source": []
  }
 ],
 "metadata": {
  "kernelspec": {
   "display_name": "pythonAlgo",
   "language": "python",
   "name": "python3"
  },
  "language_info": {
   "codemirror_mode": {
    "name": "ipython",
    "version": 3
   },
   "file_extension": ".py",
   "mimetype": "text/x-python",
   "name": "python",
   "nbconvert_exporter": "python",
   "pygments_lexer": "ipython3",
   "version": "3.11.10"
  }
 },
 "nbformat": 4,
 "nbformat_minor": 5
}
